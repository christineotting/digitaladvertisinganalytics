{
 "cells": [
  {
   "cell_type": "markdown",
   "metadata": {},
   "source": [
    "# Regression Analysis\n",
    "##Christine Ottinger\n",
    "### For APRD6342"
   ]
  },
  {
   "cell_type": "code",
   "execution_count": 1,
   "metadata": {},
   "outputs": [
    {
     "ename": "NameError",
     "evalue": "name 'pandas' is not defined",
     "output_type": "error",
     "traceback": [
      "\u001b[1;31m---------------------------------------------------------------------------\u001b[0m",
      "\u001b[1;31mNameError\u001b[0m                                 Traceback (most recent call last)",
      "\u001b[1;32m<ipython-input-1-c2bf06195a42>\u001b[0m in \u001b[0;36m<module>\u001b[1;34m()\u001b[0m\n\u001b[0;32m      4\u001b[0m \u001b[1;31m#Import Travel Pony\u001b[0m\u001b[1;33m\u001b[0m\u001b[1;33m\u001b[0m\u001b[0m\n\u001b[0;32m      5\u001b[0m \u001b[0mtrvl\u001b[0m \u001b[1;33m=\u001b[0m \u001b[1;34m'TPF.csv'\u001b[0m\u001b[1;33m\u001b[0m\u001b[0m\n\u001b[1;32m----> 6\u001b[1;33m \u001b[0mtrvl\u001b[0m \u001b[1;33m=\u001b[0m \u001b[0mpandas\u001b[0m\u001b[1;33m.\u001b[0m\u001b[0mread_csv\u001b[0m\u001b[1;33m(\u001b[0m\u001b[1;34m'TPF.csv'\u001b[0m\u001b[1;33m)\u001b[0m\u001b[1;33m\u001b[0m\u001b[0m\n\u001b[0m\u001b[0;32m      7\u001b[0m \u001b[1;33m\u001b[0m\u001b[0m\n\u001b[0;32m      8\u001b[0m \u001b[1;31m#removing any rows that have $0\u001b[0m\u001b[1;33m\u001b[0m\u001b[1;33m\u001b[0m\u001b[0m\n",
      "\u001b[1;31mNameError\u001b[0m: name 'pandas' is not defined"
     ]
    }
   ],
   "source": [
    "#import the pandas\n",
    "import pandas as pd\n",
    "\n",
    "#Import Travel Pony \n",
    "trvl = 'TPF.csv'\n",
    "trvl = pandas.read_csv('TPF.csv')\n",
    "\n",
    "#removing any rows that have $0\n",
    "data = trvl[trvl['Amount Spent (USD)'] != 0]\n",
    "\n",
    "#import seaborn as sns\n",
    "import seaborn as sns \n",
    "import statsmodels.api as sm \n",
    "\n",
    "## reading the data\n",
    "data= pd.read_csv ('TPF.csv')\n",
    "#renaming the columns to get valid col names for regression\n",
    "data.columns = data.columns.str.strip().str.lower().str.replace(' ', ' ')\n",
    "\n",
    "#question 1 \n",
    "#histogram of amount spent\n",
    "sns.set_style('dark')\n",
    "sns.distplot(trvl['Amount Spent (USD)'])\n",
    "\n",
    "#----------------------------------------------------------#\n",
    "# Question 2 multiple regression \n",
    "#assign categorical numbers to campaign names\n",
    "data['Campaign Name'] = data['Campaign Name'].astype('category')\n",
    "data['Campaign Code'] = data['Campaign Name'].cat.codes #this gives the categories codes\n",
    "\n",
    "#add the (multiple) predictor variables\n",
    "X = data[['Reach', 'Frequency', 'Impressions', 'Clicks', 'Unique Clicks', 'Page Likes','Page Engagement', 'Post Engagement', 'Post Likes', 'Post Comments','Post Shares', 'Photo Views', 'Website Clicks', 'Campaign Code']]\n",
    "\n",
    "#import statsmodels.api \n",
    "import statsmodels.api as sm\n",
    "\n",
    "#create y \n",
    "y = data['Amount Spent (USD)']\n",
    "\n",
    "linreg = sm.OLS(y,X).fit()\n",
    "\n",
    "linreg.summary()"
   ]
  },
  {
   "cell_type": "code",
   "execution_count": null,
   "metadata": {},
   "outputs": [],
   "source": []
  }
 ],
 "metadata": {
  "kernelspec": {
   "display_name": "Python 3",
   "language": "python",
   "name": "python3"
  },
  "language_info": {
   "codemirror_mode": {
    "name": "ipython",
    "version": 3
   },
   "file_extension": ".py",
   "mimetype": "text/x-python",
   "name": "python",
   "nbconvert_exporter": "python",
   "pygments_lexer": "ipython3",
   "version": "3.6.5"
  }
 },
 "nbformat": 4,
 "nbformat_minor": 2
}
