{
 "cells": [
  {
   "cell_type": "markdown",
   "metadata": {},
   "source": [
    "# Travel Pony Homework \n",
    "##Christine Ottinger\n",
    "##For APRD6342"
   ]
  },
  {
   "cell_type": "code",
   "execution_count": 1,
   "metadata": {},
   "outputs": [
    {
     "ename": "TypeError",
     "evalue": "'module' object is not subscriptable",
     "output_type": "error",
     "traceback": [
      "\u001b[1;31m---------------------------------------------------------------------------\u001b[0m",
      "\u001b[1;31mTypeError\u001b[0m                                 Traceback (most recent call last)",
      "\u001b[1;32m<ipython-input-1-e99af05a5531>\u001b[0m in \u001b[0;36m<module>\u001b[1;34m()\u001b[0m\n\u001b[0;32m      5\u001b[0m \u001b[1;31m#Problem 1\u001b[0m\u001b[1;33m\u001b[0m\u001b[1;33m\u001b[0m\u001b[0m\n\u001b[0;32m      6\u001b[0m \u001b[1;31m#Create a cost per impressions column\u001b[0m\u001b[1;33m\u001b[0m\u001b[1;33m\u001b[0m\u001b[0m\n\u001b[1;32m----> 7\u001b[1;33m \u001b[0mpd\u001b[0m\u001b[1;33m[\u001b[0m\u001b[1;34m'Cost per Impression'\u001b[0m\u001b[1;33m]\u001b[0m\u001b[1;33m=\u001b[0m \u001b[0mpd\u001b[0m\u001b[1;33m[\u001b[0m\u001b[1;34m'Amount Spent (USD)'\u001b[0m\u001b[1;33m]\u001b[0m\u001b[1;33m/\u001b[0m\u001b[0mpd\u001b[0m\u001b[1;33m[\u001b[0m\u001b[1;34m'Impressions'\u001b[0m\u001b[1;33m]\u001b[0m\u001b[1;33m\u001b[0m\u001b[0m\n\u001b[0m\u001b[0;32m      8\u001b[0m \u001b[1;33m\u001b[0m\u001b[0m\n\u001b[0;32m      9\u001b[0m \u001b[1;31m#Create a day of the week column\u001b[0m\u001b[1;33m\u001b[0m\u001b[1;33m\u001b[0m\u001b[0m\n",
      "\u001b[1;31mTypeError\u001b[0m: 'module' object is not subscriptable"
     ]
    }
   ],
   "source": [
    "import pandas as pd\n",
    "csv = pd.read_csv('TPF.csv')\n",
    "csv.columns\n",
    "\n",
    "#Problem 1 \n",
    "#Create a cost per impressions column \n",
    "pd['Cost per Impression']= pd['Amount Spent (USD)']/pd['Impressions']\n",
    "\n",
    "#Create a day of the week column \n",
    "pd ['newdate']= pd.to_datetime (pd['Start Date'])\n",
    "pd ['Day of week']= pd['newdate'].pd.dayofweek\n",
    "\n",
    "#average value for each day \n",
    "avgValue = pd.groupby(['Day of week']).mean()\n",
    "#Get an average value for each day of the week \n",
    "avgValue = avgValue.sort_values (\"cost per impression\")\n",
    "\n",
    "#Problem 2 \n",
    "import seaborn as sns \n",
    "sns.jointplot('Amount Spent (USD)','Reach', data=pd, kind='reg')\n",
    "sns.jointplot('Amount Spent (USD)','Unique Clicks', data=pd, kind='reg')\n",
    "sns.jointplot('Amount Spent (USD)','Frequency', data=pd, kind='reg')\n",
    "sns.jointplot('Amount Spent (USD)','Page Likes', data=pd, kind='reg')\n",
    "\n",
    "#Problem 3 \n",
    "import statsmodels.api as sm\n",
    "import numpy as npy \n",
    "target = pd.DataFrame(pd, columns = ['Unique Clicks'])\n",
    "\n",
    "W = pd['Frequency']\n",
    "X = pd ['Reach']\n",
    "Y = pd ['Unique Clicks']\n",
    "\n",
    "#Correlation of Qunique Clicks and Reach \n",
    "model = sm.OLS (Y, X).fit()\n",
    "predictions = model.predct (X)\n",
    "model.summary()\n",
    "\n",
    "#Correlation between Unique Clicks and frequency \n",
    "model2= sm.OLS (Y, W).fit()\n",
    "predictions = model.predict (Y)\n",
    "model.summary()\n"
   ]
  },
  {
   "cell_type": "code",
   "execution_count": null,
   "metadata": {},
   "outputs": [],
   "source": []
  }
 ],
 "metadata": {
  "kernelspec": {
   "display_name": "Python 3",
   "language": "python",
   "name": "python3"
  },
  "language_info": {
   "codemirror_mode": {
    "name": "ipython",
    "version": 3
   },
   "file_extension": ".py",
   "mimetype": "text/x-python",
   "name": "python",
   "nbconvert_exporter": "python",
   "pygments_lexer": "ipython3",
   "version": "3.6.5"
  }
 },
 "nbformat": 4,
 "nbformat_minor": 2
}
