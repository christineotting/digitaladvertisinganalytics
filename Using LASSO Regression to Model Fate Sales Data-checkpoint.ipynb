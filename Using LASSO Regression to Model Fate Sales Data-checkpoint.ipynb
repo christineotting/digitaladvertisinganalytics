{
 "cells": [
  {
   "cell_type": "markdown",
   "metadata": {},
   "source": [
    "# LASSO Regression \n",
    "##Christine Ottinger\n",
    "##For APRD6342"
   ]
  },
  {
   "cell_type": "code",
   "execution_count": 2,
   "metadata": {},
   "outputs": [
    {
     "ename": "SyntaxError",
     "evalue": "EOL while scanning string literal (<ipython-input-2-6ff633cca9dc>, line 50)",
     "output_type": "error",
     "traceback": [
      "\u001b[1;36m  File \u001b[1;32m\"<ipython-input-2-6ff633cca9dc>\"\u001b[1;36m, line \u001b[1;32m50\u001b[0m\n\u001b[1;33m    predictors_model['coeff'] = model.coef_ \"\u001b[0m\n\u001b[1;37m                                             ^\u001b[0m\n\u001b[1;31mSyntaxError\u001b[0m\u001b[1;31m:\u001b[0m EOL while scanning string literal\n"
     ]
    }
   ],
   "source": [
    "#Import the pandas package into script\n",
    "import pandas as pd \n",
    "import pandas \n",
    "\n",
    "#Import other items for LASSO regression work \n",
    "from sklearn.cross_validation import train_test_split\n",
    "from sklearn.linear_model import LassoLarsCV\n",
    "import matplotlib.pyplot as plt\n",
    "\n",
    "#Data can be found on github\n",
    "#Import final master - ratio csv as dataframe \n",
    "data = pd.read_csv('finalmaster-ratios.csv')\n",
    "\n",
    "#import data into Panda as a data frame\n",
    "alldata = pd.read_csv('finalmaster-ratios.csv')\n",
    "\n",
    "# Get a list of the variables from alldata\n",
    "allvariablenames = list(alldata.columns.values)\n",
    "\n",
    "\n",
    "#Remove first 8 variables \n",
    "allvariablenames.pop(0) #remove #Purchases\n",
    "allvariablenames.pop(0) #remove B01001001\n",
    "allvariablenames.pop(0) #remove B01001002\n",
    "allvariablenames.pop(0) #remove B01001003\n",
    "allvariablenames.pop(0) #remove B01001004\n",
    "allvariablenames.pop(0) #remove B01001005\n",
    "allvariablenames.pop(0) #remove B01001006\n",
    "allvariablenames.pop(0) #remove B01001007\n",
    "\n",
    "\n",
    "#load predictors into dataframe\n",
    "predictors = alldata[allvariablenames]\n",
    "print(predictors)  \n",
    "#load target into dataframe\n",
    "target = alldata['# Purchases']   \n",
    "print(target)\n",
    "\n",
    "# split data into train and test sets, with 30% retained for test\n",
    "\n",
    "pred_train, pred_test, tar_train, tar_test = train_test_split(predictors, target, test_size=.3, random_state=123)    \n",
    "\n",
    "\n",
    "# specify the lasso regression model & fit \n",
    "model=LassoLarsCV(cv=10, precompute=False).fit(pred_train,tar_train)\n",
    "\n",
    "#build coefficent chart\n",
    "predictors_model=pd.DataFrame(allvariablenames)\n",
    "predictors_model.columns = ['label'] \n",
    "predictors_model['coeff'] = model.coef_ \"\n",
    "\n",
    "for index, row in predictors_model.iterrows(): \n",
    "    if row ['coeff'] > 0: \n",
    "        print(row.values) \n",
    "\n",
    "def mean_squared_error(targets,predictions):\n",
    "    return mean((targets-predictions)**2)\n",
    "\n",
    "train_error = mean_squared_error(tar_train, model.predict(pred_train))\n",
    "print ('training data MSE')\n",
    "print(train_error)\n",
    "\n",
    "\n",
    "predtest_error = mean_squared_error(pred_test, model.predict(tar_test))\n",
    "print ('Predict Test MSE')\n",
    "print(predtest_error)\n",
    "\n",
    "targtest_error = mean_squared_error(tar_test, model.predict(pred_test))\n",
    "print ('Target Test MSE')\n",
    "print(targtest_error)"
   ]
  },
  {
   "cell_type": "code",
   "execution_count": null,
   "metadata": {},
   "outputs": [],
   "source": []
  }
 ],
 "metadata": {
  "kernelspec": {
   "display_name": "Python 3",
   "language": "python",
   "name": "python3"
  },
  "language_info": {
   "codemirror_mode": {
    "name": "ipython",
    "version": 3
   },
   "file_extension": ".py",
   "mimetype": "text/x-python",
   "name": "python",
   "nbconvert_exporter": "python",
   "pygments_lexer": "ipython3",
   "version": "3.6.5"
  }
 },
 "nbformat": 4,
 "nbformat_minor": 2
}
